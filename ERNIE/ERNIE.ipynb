{
  "nbformat": 4,
  "nbformat_minor": 0,
  "metadata": {
    "colab": {
      "name": "ERNIE.ipynb",
      "provenance": []
    },
    "kernelspec": {
      "name": "python3",
      "display_name": "Python 3"
    }
  },
  "cells": [
    {
      "cell_type": "code",
      "metadata": {
        "id": "uJi1VIAQllwc"
      },
      "source": [
        "# 在python2將新版python3的特性import\n",
        "from __future__ import division\n",
        "from __future__ import absolute_import\n",
        "from __future__ import print_function\n",
        "from __future__ import unicode_literals"
      ],
      "execution_count": null,
      "outputs": []
    },
    {
      "cell_type": "code",
      "metadata": {
        "id": "wzyfLt225QWG",
        "outputId": "32005e5d-1532-4240-a8d1-d0e05809aebb",
        "colab": {
          "base_uri": "https://localhost:8080/",
          "height": 751
        }
      },
      "source": [
        "# 安裝 paddle - https://www.paddlepaddle.org.cn/install/quick\n",
        "# 查看版本，並到上面的網址安裝對應的版本\n",
        "!python3 --version && nvcc --version\n",
        "# 安裝對應版本paddle\n",
        "! python3 -m pip install paddlepaddle -i https://mirror.baidu.com/pypi/simple"
      ],
      "execution_count": null,
      "outputs": [
        {
          "output_type": "stream",
          "text": [
            "Python 3.6.9\n",
            "nvcc: NVIDIA (R) Cuda compiler driver\n",
            "Copyright (c) 2005-2019 NVIDIA Corporation\n",
            "Built on Sun_Jul_28_19:07:16_PDT_2019\n",
            "Cuda compilation tools, release 10.1, V10.1.243\n",
            "Looking in indexes: https://mirror.baidu.com/pypi/simple\n",
            "Collecting paddlepaddle\n",
            "\u001b[?25l  Downloading https://mirror.baidu.com/pypi/packages/5c/0d/86c47d1f4ed6ea750bc9a76ecd47bbe7b3f7df68207f27b39795d1c95bc0/paddlepaddle-1.8.5-cp36-cp36m-manylinux1_x86_64.whl (111.3MB)\n",
            "\u001b[K     |████████████████████████████████| 111.3MB 65kB/s \n",
            "\u001b[?25hRequirement already satisfied: gast==0.3.3 in /usr/local/lib/python3.6/dist-packages (from paddlepaddle) (0.3.3)\n",
            "Requirement already satisfied: requests>=2.20.0 in /usr/local/lib/python3.6/dist-packages (from paddlepaddle) (2.23.0)\n",
            "Requirement already satisfied: prettytable in /usr/local/lib/python3.6/dist-packages (from paddlepaddle) (0.7.2)\n",
            "Requirement already satisfied: protobuf>=3.1.0 in /usr/local/lib/python3.6/dist-packages (from paddlepaddle) (3.12.4)\n",
            "Collecting rarfile\n",
            "  Downloading https://mirror.baidu.com/pypi/packages/95/f4/c92fab227c7457e3b76a4096ccb655ded9deac869849cb03afbe55dfdc1e/rarfile-4.0-py3-none-any.whl\n",
            "Requirement already satisfied: numpy>=1.12; python_version >= \"3.5\" in /usr/local/lib/python3.6/dist-packages (from paddlepaddle) (1.18.5)\n",
            "Requirement already satisfied: nltk; python_version >= \"3.5\" in /usr/local/lib/python3.6/dist-packages (from paddlepaddle) (3.2.5)\n",
            "Requirement already satisfied: matplotlib; python_version >= \"3.6\" in /usr/local/lib/python3.6/dist-packages (from paddlepaddle) (3.2.2)\n",
            "Requirement already satisfied: astor in /usr/local/lib/python3.6/dist-packages (from paddlepaddle) (0.8.1)\n",
            "Collecting objgraph\n",
            "  Downloading https://mirror.baidu.com/pypi/packages/7d/21/b8ea10bea21a3ecb603ab0a8a59e49282d83eadba16e47464193b0b70dce/objgraph-3.4.1-py2.py3-none-any.whl\n",
            "Requirement already satisfied: scipy; python_version > \"3.5\" in /usr/local/lib/python3.6/dist-packages (from paddlepaddle) (1.4.1)\n",
            "Requirement already satisfied: opencv-python in /usr/local/lib/python3.6/dist-packages (from paddlepaddle) (4.1.2.30)\n",
            "Requirement already satisfied: graphviz in /usr/local/lib/python3.6/dist-packages (from paddlepaddle) (0.10.1)\n",
            "Requirement already satisfied: Pillow in /usr/local/lib/python3.6/dist-packages (from paddlepaddle) (7.0.0)\n",
            "Requirement already satisfied: pyyaml in /usr/local/lib/python3.6/dist-packages (from paddlepaddle) (3.13)\n",
            "Requirement already satisfied: decorator in /usr/local/lib/python3.6/dist-packages (from paddlepaddle) (4.4.2)\n",
            "Requirement already satisfied: pathlib in /usr/local/lib/python3.6/dist-packages (from paddlepaddle) (1.0.1)\n",
            "Collecting funcsigs\n",
            "  Downloading https://mirror.baidu.com/pypi/packages/69/cb/f5be453359271714c01b9bd06126eaf2e368f1fddfff30818754b5ac2328/funcsigs-1.0.2-py2.py3-none-any.whl\n",
            "Requirement already satisfied: six in /usr/local/lib/python3.6/dist-packages (from paddlepaddle) (1.15.0)\n",
            "Requirement already satisfied: certifi>=2017.4.17 in /usr/local/lib/python3.6/dist-packages (from requests>=2.20.0->paddlepaddle) (2020.6.20)\n",
            "Requirement already satisfied: idna<3,>=2.5 in /usr/local/lib/python3.6/dist-packages (from requests>=2.20.0->paddlepaddle) (2.10)\n",
            "Requirement already satisfied: urllib3!=1.25.0,!=1.25.1,<1.26,>=1.21.1 in /usr/local/lib/python3.6/dist-packages (from requests>=2.20.0->paddlepaddle) (1.24.3)\n",
            "Requirement already satisfied: chardet<4,>=3.0.2 in /usr/local/lib/python3.6/dist-packages (from requests>=2.20.0->paddlepaddle) (3.0.4)\n",
            "Requirement already satisfied: setuptools in /usr/local/lib/python3.6/dist-packages (from protobuf>=3.1.0->paddlepaddle) (50.3.0)\n",
            "Requirement already satisfied: python-dateutil>=2.1 in /usr/local/lib/python3.6/dist-packages (from matplotlib; python_version >= \"3.6\"->paddlepaddle) (2.8.1)\n",
            "Requirement already satisfied: cycler>=0.10 in /usr/local/lib/python3.6/dist-packages (from matplotlib; python_version >= \"3.6\"->paddlepaddle) (0.10.0)\n",
            "Requirement already satisfied: kiwisolver>=1.0.1 in /usr/local/lib/python3.6/dist-packages (from matplotlib; python_version >= \"3.6\"->paddlepaddle) (1.2.0)\n",
            "Requirement already satisfied: pyparsing!=2.0.4,!=2.1.2,!=2.1.6,>=2.0.1 in /usr/local/lib/python3.6/dist-packages (from matplotlib; python_version >= \"3.6\"->paddlepaddle) (2.4.7)\n",
            "Installing collected packages: rarfile, objgraph, funcsigs, paddlepaddle\n",
            "Successfully installed funcsigs-1.0.2 objgraph-3.4.1 paddlepaddle-1.8.5 rarfile-4.0\n"
          ],
          "name": "stdout"
        }
      ]
    },
    {
      "cell_type": "code",
      "metadata": {
        "id": "fI4jzNtl4-7q",
        "outputId": "838d6058-b633-4271-fefd-068a95d44b1e",
        "colab": {
          "base_uri": "https://localhost:8080/",
          "height": 136
        }
      },
      "source": [
        "# 安裝ERNIE\n",
        "!git clone https://github.com/PaddlePaddle/ERNIE.git\n",
        "!git -C ./ERNIE branch origin/dygraph\n",
        "import sys\n",
        "sys.path.append('./ERNIE')\n",
        "import numpy as np\n",
        "from sklearn.metrics import f1_score\n",
        "import paddle as P\n",
        "import paddle.fluid as F\n",
        "import paddle.fluid.layers as L\n",
        "import paddle.fluid.dygraph as D\n",
        "\n",
        "from ernie.tokenizing_ernie import ErnieTokenizer\n",
        "from ernie.modeling_ernie import ErnieModelForSequenceClassification"
      ],
      "execution_count": null,
      "outputs": [
        {
          "output_type": "stream",
          "text": [
            "Cloning into 'ERNIE'...\n",
            "remote: Enumerating objects: 7, done.\u001b[K\n",
            "remote: Counting objects: 100% (7/7), done.\u001b[K\n",
            "remote: Compressing objects: 100% (7/7), done.\u001b[K\n",
            "remote: Total 1880 (delta 1), reused 0 (delta 0), pack-reused 1873\u001b[K\n",
            "Receiving objects: 100% (1880/1880), 88.77 MiB | 36.63 MiB/s, done.\n",
            "Resolving deltas: 100% (1023/1023), done.\n"
          ],
          "name": "stdout"
        }
      ]
    },
    {
      "cell_type": "code",
      "metadata": {
        "id": "fntIPDyV34BD",
        "outputId": "3fd8fa08-dcee-4929-b805-361d68b27874",
        "colab": {
          "base_uri": "https://localhost:8080/",
          "height": 323
        }
      },
      "source": [
        "# 下載資料\n",
        "! wget https://ernie-github.cdn.bcebos.com/data-chnsenticorp.tar.gz\n",
        "! tar -xvzf data-chnsenticorp.tar.gz\n",
        "! rm data-chnsenticorp.tar.gz"
      ],
      "execution_count": null,
      "outputs": [
        {
          "output_type": "stream",
          "text": [
            "--2020-10-25 09:27:57--  https://ernie-github.cdn.bcebos.com/data-chnsenticorp.tar.gz\n",
            "Resolving ernie-github.cdn.bcebos.com (ernie-github.cdn.bcebos.com)... 125.77.154.35\n",
            "Connecting to ernie-github.cdn.bcebos.com (ernie-github.cdn.bcebos.com)|125.77.154.35|:443... connected.\n",
            "HTTP request sent, awaiting response... 200 OK\n",
            "Length: 1753724 (1.7M) [application/x-gzip]\n",
            "Saving to: ‘data-chnsenticorp.tar.gz’\n",
            "\n",
            "data-chnsenticorp.t 100%[===================>]   1.67M  1.36MB/s    in 1.2s    \n",
            "\n",
            "2020-10-25 09:28:00 (1.36 MB/s) - ‘data-chnsenticorp.tar.gz’ saved [1753724/1753724]\n",
            "\n",
            "chnsenticorp/\n",
            "chnsenticorp/dev/\n",
            "chnsenticorp/dev/part.0\n",
            "chnsenticorp/test/\n",
            "chnsenticorp/test/part.0\n",
            "chnsenticorp/train/\n",
            "chnsenticorp/train/part.0\n"
          ],
          "name": "stdout"
        }
      ]
    },
    {
      "cell_type": "code",
      "metadata": {
        "id": "C20nBbgH6PQX",
        "outputId": "01f88f8b-353d-4bb4-ff15-901002748aa1",
        "colab": {
          "base_uri": "https://localhost:8080/",
          "height": 122
        }
      },
      "source": [
        "# 查看訓練文件\n",
        "! head -n 5 chnsenticorp/train/part.0"
      ],
      "execution_count": null,
      "outputs": [
        {
          "output_type": "stream",
          "text": [
            "选择珠江花园的原因就是方便，有电动扶梯直接到达海边，周围餐馆、食廊、商场、超市、摊位一应俱全。酒店装修一般，但还算整洁。 泳池在大堂的屋顶，因此很小，不过女儿倒是喜欢。 包的早餐是西式的，还算丰富。 服务吗，一般\t1\n",
            "15.4寸笔记本的键盘确实爽，基本跟台式机差不多了，蛮喜欢数字小键盘，输数字特方便，样子也很美观，做工也相当不错\t1\n",
            "房间太小。其他的都一般。。。。。。。。。\t0\n",
            "1.接电源没有几分钟,电源适配器热的不行. 2.摄像头用不起来. 3.机盖的钢琴漆，手不能摸，一摸一个印. 4.硬盘分区不好办.\t0\n",
            "今天才知道这书还有第6卷,真有点郁闷:为什么同一套书有两种版本呢?当当网是不是该跟出版社商量商量,单独出个第6卷,让我们的孩子不会有所遗憾。\t1\n"
          ],
          "name": "stdout"
        }
      ]
    },
    {
      "cell_type": "code",
      "metadata": {
        "id": "wio_RLPL5jWM"
      },
      "source": [
        "# parameter setting\n",
        "BATCH=32\n",
        "MAX_SEQLEN=300\n",
        "LR=5e-5\n",
        "EPOCH=3"
      ],
      "execution_count": null,
      "outputs": []
    },
    {
      "cell_type": "code",
      "metadata": {
        "id": "u4RoG_w55qqE",
        "outputId": "c4bfeb59-3aec-44cc-b7f8-b1b899122fbd",
        "colab": {
          "base_uri": "https://localhost:8080/",
          "height": 54
        }
      },
      "source": [
        "# 建立tokenizer，並下載pretrain好的參數\n",
        "tokenizer = ErnieTokenizer.from_pretrained('ernie-1.0')\n",
        "def make_data(path):\n",
        "    data = []\n",
        "    for i, l in enumerate(open(path)):\n",
        "        if i == 0:\n",
        "            continue\n",
        "        l = l.strip().split('\\t')\n",
        "        # 修改一下parser\n",
        "        text, label = l[0], int(l[-1])\n",
        "        text_id, _ = tokenizer.encode(text) # 給每個word一個獨立的ID，包含一些特殊的tag SEP,CLS\n",
        "        text_id = text_id[:MAX_SEQLEN] # 句子長超過MAX_SEQLEN截斷\n",
        "        text_id = np.pad(text_id, [0, MAX_SEQLEN-len(text_id)], mode='constant') # 不足300補到300\n",
        "        label_id = np.array(label+1) # 1=>neg 2=>pos\n",
        "        data.append((text_id, label_id))\n",
        "    return data"
      ],
      "execution_count": null,
      "outputs": [
        {
          "output_type": "stream",
          "text": [
            "downloading https://ernie-github.cdn.bcebos.com/model-ernie1.0.1.tar.gz: 788478KB [00:56, 13919.41KB/s]                            \n"
          ],
          "name": "stderr"
        }
      ]
    },
    {
      "cell_type": "code",
      "metadata": {
        "id": "rWsSzYOx54Sk"
      },
      "source": [
        "# 讀訓練資料\n",
        "train_data = make_data('chnsenticorp/train/part.0')\n",
        "# 讀測試資料\n",
        "test_data = make_data('chnsenticorp/test/part.0')"
      ],
      "execution_count": null,
      "outputs": []
    },
    {
      "cell_type": "code",
      "metadata": {
        "id": "5U3pG0z0543D",
        "outputId": "155854ba-26e8-48a1-9226-5e74b77b3503",
        "colab": {
          "base_uri": "https://localhost:8080/",
          "height": 105
        }
      },
      "source": [
        "# 讓Paddle進入動態圖，這好像是Paddle提供的功能，不過沒怎麼用過\n",
        "# 查了一下像tensorflow這種需要先建立完模型架構，之後行程式才可以拿到結果的稱為靜態圖\n",
        "# 動態圖則可以在程式中很方便的使用python直接拿到數值，在寫程式上方便很多\n",
        "# https://blog.csdn.net/PaddlePaddle/article/details/100059492\n",
        "D.guard().__enter__() \n",
        "\n",
        "ernie = ErnieModelForSequenceClassification.from_pretrained('ernie-1.0', num_labels=3)\n",
        "optimizer = F.optimizer.Adam(LR, parameter_list=ernie.parameters())\n",
        "\n",
        "def get_batch_data(data, i):\n",
        "    d = data[i*BATCH: (i + 1) * BATCH]\n",
        "    feature, label = zip(*d)\n",
        "    feature = np.stack(feature)  # 将BATCH行样本整合在一个numpy.array中\n",
        "    label = np.stack(list(label))\n",
        "    print(label)\n",
        "    print(feature)\n",
        "    feature = D.to_variable(feature) # 使用to_variable将numpy.array转换为paddle tensor\n",
        "    label = D.to_variable(label)\n",
        "    return feature, label\n",
        "\n",
        "for i in range(EPOCH):\n",
        "    np.random.shuffle(train_data) # 每个epoch都shuffle数据以获得最佳训练效果；\n",
        "    #train\n",
        "    for j in range(len(train_data) // BATCH):\n",
        "        feature, label = get_batch_data(train_data, j)\n",
        "        loss, _ = ernie(feature, labels=label) # 回傳(loss, logits)； loss為目前模型的loss, logits為最後一層的output\n",
        "        loss.backward()\n",
        "        optimizer.minimize(loss)\n",
        "        ernie.clear_gradients()\n",
        "        # 每十個batch查看loss\n",
        "        if j % 10 == 0:\n",
        "            print('train on epoch %d batch %d: loss %.5f' % (i, j, loss.numpy()))\n",
        "    # evaluate\n",
        "    all_pred, all_label = [], []\n",
        "    with D.base._switch_tracer_mode_guard_(is_train=False): # 在这个with域内ernie不会进行梯度计算；\n",
        "        ernie.eval() # 進入 eval 關閉 drop out\n",
        "        for j in range(len(test_data) // BATCH):\n",
        "            feature, label = get_batch_data(test_data, j)\n",
        "            # logits => 最後一層的output\n",
        "            loss, logits = ernie(feature, labels=label) \n",
        "            # L.argmax(logits, -1) => 拿機率最大的index\n",
        "            all_pred.extend(L.argmax(logits, -1).numpy())\n",
        "            all_label.extend(label.numpy())\n",
        "        ernie.train() # 進入 train 模式\n",
        "    f1 = f1_score(all_label, all_pred, average='macro')\n",
        "    print('f1 %.5f' % f1)"
      ],
      "execution_count": null,
      "outputs": [
        {
          "output_type": "stream",
          "text": [
            "param:classifier.weight not set in pretrained model, skip\n",
            "param:classifier.bias not set in pretrained model, skip\n",
            "/usr/local/lib/python3.6/dist-packages/paddle/fluid/dygraph/layers.py:718: UserWarning: Varibale [ mlm_bias mlm.weight mlm.bias mlm_ln.weight mlm_ln.bias ] are not used, because not included in layers state_dict\n",
            "  format(\" \".join(unused_para_list)))\n"
          ],
          "name": "stderr"
        }
      ]
    },
    {
      "cell_type": "markdown",
      "metadata": {
        "id": "A2T8tR-APH5n"
      },
      "source": [
        "## test"
      ]
    },
    {
      "cell_type": "code",
      "metadata": {
        "id": "nYsAKzH9Ng3b"
      },
      "source": [
        "def tokenize_eval_data(text):\n",
        "    text_id, _ = tokenizer.encode(text) # 給每個word一個獨立的ID，包含一些特殊的tag SEP,CLS\n",
        "    text_id = text_id[:MAX_SEQLEN] # 句子長超過MAX_SEQLEN截斷\n",
        "    text_id = np.pad(text_id, [0, MAX_SEQLEN-len(text_id)], mode='constant') # 不足300補到300\n",
        "    return text_id\n",
        "\n",
        "def get_eval_data(text, label):\n",
        "    feature = np.stack([text,text])\n",
        "    print(feature)\n",
        "    feature = D.to_variable(feature) # 使用to_variabler將numpy.array轉換為paddle tensor\n",
        "    print(feature)\n",
        "    label = np.stack([label])\n",
        "    print(label)\n",
        "    label = D.to_variable(label)\n",
        "    return feature, label"
      ],
      "execution_count": null,
      "outputs": []
    },
    {
      "cell_type": "code",
      "metadata": {
        "id": "SI5dwkdANXnF",
        "outputId": "543b6fc8-f4e9-4886-9987-acfea75b0a58",
        "colab": {
          "base_uri": "https://localhost:8080/",
          "height": 351
        }
      },
      "source": [
        "# test data\n",
        "test1 = \"拜登在搖擺州賓州的造勢活動上批評川普說，「他在中國貿易問題上一直軟弱又混亂，所做一切只是為大型銀行打開在中國賺錢的大門，並幫忙造成美國農場破產數量的激增」，並稱自己將做到川普無法做到的事情。\"\n",
        "label1 = 1\n",
        "# preprosee\n",
        "test1 = tokenize_eval_data(test1)\n",
        "test1,labe1 = get_eval_data(test1, label1)\n",
        "# ernie model predict\n",
        "ernie.eval()\n",
        "loss, logits = ernie([np.array(tokenizer.encode(test1))], labels=labe1)"
      ],
      "execution_count": null,
      "outputs": [
        {
          "output_type": "error",
          "ename": "NameError",
          "evalue": "ignored",
          "traceback": [
            "\u001b[0;31m---------------------------------------------------------------------------\u001b[0m",
            "\u001b[0;31mNameError\u001b[0m                                 Traceback (most recent call last)",
            "\u001b[0;32m<ipython-input-3-cbb6dd58d9c6>\u001b[0m in \u001b[0;36m<module>\u001b[0;34m()\u001b[0m\n\u001b[1;32m      3\u001b[0m \u001b[0mlabel1\u001b[0m \u001b[0;34m=\u001b[0m \u001b[0;36m1\u001b[0m\u001b[0;34m\u001b[0m\u001b[0;34m\u001b[0m\u001b[0m\n\u001b[1;32m      4\u001b[0m \u001b[0;31m# preprosee\u001b[0m\u001b[0;34m\u001b[0m\u001b[0;34m\u001b[0m\u001b[0;34m\u001b[0m\u001b[0m\n\u001b[0;32m----> 5\u001b[0;31m \u001b[0mtest1\u001b[0m \u001b[0;34m=\u001b[0m \u001b[0mtokenize_eval_data\u001b[0m\u001b[0;34m(\u001b[0m\u001b[0mtest1\u001b[0m\u001b[0;34m)\u001b[0m\u001b[0;34m\u001b[0m\u001b[0;34m\u001b[0m\u001b[0m\n\u001b[0m\u001b[1;32m      6\u001b[0m \u001b[0mtest1\u001b[0m\u001b[0;34m,\u001b[0m\u001b[0mlabe1\u001b[0m \u001b[0;34m=\u001b[0m \u001b[0mget_eval_data\u001b[0m\u001b[0;34m(\u001b[0m\u001b[0mtest1\u001b[0m\u001b[0;34m,\u001b[0m \u001b[0mlabel1\u001b[0m\u001b[0;34m)\u001b[0m\u001b[0;34m\u001b[0m\u001b[0;34m\u001b[0m\u001b[0m\n\u001b[1;32m      7\u001b[0m \u001b[0;31m# ernie model predict\u001b[0m\u001b[0;34m\u001b[0m\u001b[0;34m\u001b[0m\u001b[0;34m\u001b[0m\u001b[0m\n",
            "\u001b[0;32m<ipython-input-1-372debe5e882>\u001b[0m in \u001b[0;36mtokenize_eval_data\u001b[0;34m(text)\u001b[0m\n\u001b[1;32m      1\u001b[0m \u001b[0;32mdef\u001b[0m \u001b[0mtokenize_eval_data\u001b[0m\u001b[0;34m(\u001b[0m\u001b[0mtext\u001b[0m\u001b[0;34m)\u001b[0m\u001b[0;34m:\u001b[0m\u001b[0;34m\u001b[0m\u001b[0;34m\u001b[0m\u001b[0m\n\u001b[0;32m----> 2\u001b[0;31m     \u001b[0mtext_id\u001b[0m\u001b[0;34m,\u001b[0m \u001b[0m_\u001b[0m \u001b[0;34m=\u001b[0m \u001b[0mtokenizer\u001b[0m\u001b[0;34m.\u001b[0m\u001b[0mencode\u001b[0m\u001b[0;34m(\u001b[0m\u001b[0mtext\u001b[0m\u001b[0;34m)\u001b[0m \u001b[0;31m# 給每個word一個獨立的ID，包含一些特殊的tag SEP,CLS\u001b[0m\u001b[0;34m\u001b[0m\u001b[0;34m\u001b[0m\u001b[0m\n\u001b[0m\u001b[1;32m      3\u001b[0m     \u001b[0mtext_id\u001b[0m \u001b[0;34m=\u001b[0m \u001b[0mtext_id\u001b[0m\u001b[0;34m[\u001b[0m\u001b[0;34m:\u001b[0m\u001b[0mMAX_SEQLEN\u001b[0m\u001b[0;34m]\u001b[0m \u001b[0;31m# 句子長超過MAX_SEQLEN截斷\u001b[0m\u001b[0;34m\u001b[0m\u001b[0;34m\u001b[0m\u001b[0m\n\u001b[1;32m      4\u001b[0m     \u001b[0mtext_id\u001b[0m \u001b[0;34m=\u001b[0m \u001b[0mnp\u001b[0m\u001b[0;34m.\u001b[0m\u001b[0mpad\u001b[0m\u001b[0;34m(\u001b[0m\u001b[0mtext_id\u001b[0m\u001b[0;34m,\u001b[0m \u001b[0;34m[\u001b[0m\u001b[0;36m0\u001b[0m\u001b[0;34m,\u001b[0m \u001b[0mMAX_SEQLEN\u001b[0m\u001b[0;34m-\u001b[0m\u001b[0mlen\u001b[0m\u001b[0;34m(\u001b[0m\u001b[0mtext_id\u001b[0m\u001b[0;34m)\u001b[0m\u001b[0;34m]\u001b[0m\u001b[0;34m,\u001b[0m \u001b[0mmode\u001b[0m\u001b[0;34m=\u001b[0m\u001b[0;34m'constant'\u001b[0m\u001b[0;34m)\u001b[0m \u001b[0;31m# 不足300補到300\u001b[0m\u001b[0;34m\u001b[0m\u001b[0;34m\u001b[0m\u001b[0m\n\u001b[1;32m      5\u001b[0m     \u001b[0;32mreturn\u001b[0m \u001b[0mtext_id\u001b[0m\u001b[0;34m\u001b[0m\u001b[0;34m\u001b[0m\u001b[0m\n",
            "\u001b[0;31mNameError\u001b[0m: name 'tokenizer' is not defined"
          ]
        }
      ]
    },
    {
      "cell_type": "code",
      "metadata": {
        "id": "P8BFVh8qMugD"
      },
      "source": [
        ""
      ],
      "execution_count": null,
      "outputs": []
    },
    {
      "cell_type": "code",
      "metadata": {
        "id": "gDnNoaeP58JK"
      },
      "source": [
        "ernie.eval()\n",
        "# test\n",
        "test1 = \"我喜歡\"\n",
        "tokenizer.encode(test1)\n",
        "loss, logits = ernie([np.array(tokenizer.encode(test1))], labels=2)\n",
        "# print(logits)"
      ],
      "execution_count": null,
      "outputs": []
    }
  ]
}